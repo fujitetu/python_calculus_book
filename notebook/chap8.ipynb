{
    "cells": [
        {
            "cell_type": "markdown",
            "metadata": {},
            "source": [
                "# 微分方程式"
            ]
        },
        {
            "cell_type": "markdown",
            "metadata": {},
            "source": [
                "## 微分方程式を解く"
            ]
        },
        {
            "cell_type": "code",
            "execution_count": 1,
            "metadata": {},
            "outputs": [],
            "source": [
                "# 微分方程式を作成するために、Eq とFunction をインポートする\n",
                "from sympy import init_printing, symbols, Eq, Function\n",
                "from sympy.plotting import plot\n",
                "\n",
                "init_printing(use_latex='mathjax')"
            ]
        },
        {
            "cell_type": "code",
            "execution_count": 2,
            "metadata": {},
            "outputs": [
                {
                    "data": {
                        "text/latex": [
                            "$\\displaystyle \\frac{d}{d t} x{\\left(t \\right)} = - x{\\left(t \\right)}$"
                        ],
                        "text/plain": [
                            "d               \n",
                            "──(x(t)) = -x(t)\n",
                            "dt              "
                        ]
                    },
                    "execution_count": 2,
                    "metadata": {},
                    "output_type": "execute_result"
                }
            ],
            "source": [
                "t = symbols('t', real=True)\n",
                "# x をFunction としてインスタンス化\n",
                "x = Function('x')\n",
                "\n",
                "# Eq(左辺, 右辺) を使用して微分方程式diffeq を作成\n",
                "diffeq = Eq(x(t).diff(t), -x(t))\n",
                "diffeq"
            ]
        },
        {
            "cell_type": "code",
            "execution_count": 3,
            "metadata": {},
            "outputs": [
                {
                    "data": {
                        "text/latex": [
                            "$\\displaystyle x{\\left(t \\right)} = C_{1} e^{- t}$"
                        ],
                        "text/plain": [
                            "           -t\n",
                            "x(t) = C₁⋅ℯ  "
                        ]
                    },
                    "execution_count": 3,
                    "metadata": {},
                    "output_type": "execute_result"
                }
            ],
            "source": [
                "# 微分方程式を解くためにdsolve をインポートする\n",
                "from sympy import dsolve\n",
                "\n",
                "gen_sol_1 = dsolve(diffeq, x(t))\n",
                "gen_sol_1"
            ]
        },
        {
            "cell_type": "code",
            "execution_count": 4,
            "metadata": {},
            "outputs": [
                {
                    "data": {
                        "text/latex": [
                            "$\\displaystyle x_{0} e^{t_{0}}$"
                        ],
                        "text/plain": [
                            "    t₀\n",
                            "x₀⋅ℯ  "
                        ]
                    },
                    "execution_count": 4,
                    "metadata": {},
                    "output_type": "execute_result"
                }
            ],
            "source": [
                "from sympy import solveset\n",
                "\n",
                "# 初期状態t0, x0 とそのときのC1\n",
                "t0, x0 = symbols('t0 x0', real=True)\n",
                "C1 = symbols('C1')\n",
                "\n",
                "# 初期条件からC_1 を計算\n",
                "C_1 = solveset(gen_sol_1.subs([(t, t0), (x(t0), x0)]), C1)\n",
                "\n",
                "# 解はargs プロパティにアクセスして取得\n",
                "C_1.args[0]"
            ]
        },
        {
            "cell_type": "code",
            "execution_count": 5,
            "metadata": {},
            "outputs": [
                {
                    "data": {
                        "text/latex": [
                            "$\\displaystyle x{\\left(t \\right)} = x_{0} e^{- t} e^{t_{0}}$"
                        ],
                        "text/plain": [
                            "           -t  t₀\n",
                            "x(t) = x₀⋅ℯ  ⋅ℯ  "
                        ]
                    },
                    "execution_count": 5,
                    "metadata": {},
                    "output_type": "execute_result"
                }
            ],
            "source": [
                "# subs メソッドで初期条件から求めたC_1 を代入\n",
                "par_sol_1 = gen_sol_1.subs(C1, C_1.args[0])\n",
                "par_sol_1"
            ]
        },
        {
            "cell_type": "markdown",
            "metadata": {},
            "source": [
                "## 運動方程式を解く"
            ]
        },
        {
            "cell_type": "markdown",
            "metadata": {},
            "source": [
                "### 自由落下"
            ]
        },
        {
            "cell_type": "code",
            "execution_count": 6,
            "metadata": {},
            "outputs": [
                {
                    "data": {
                        "text/latex": [
                            "$\\displaystyle m \\frac{d^{2}}{d t^{2}} x{\\left(t \\right)} = - g m$"
                        ],
                        "text/plain": [
                            "    2             \n",
                            "   d              \n",
                            "m⋅───(x(t)) = -g⋅m\n",
                            "    2             \n",
                            "  dt              "
                        ]
                    },
                    "execution_count": 6,
                    "metadata": {},
                    "output_type": "execute_result"
                }
            ],
            "source": [
                "# 自由落下の運動方程式\n",
                "m, g = symbols('m g', real=True, positive=True)\n",
                "eom_free_fall = Eq(m*x(t).diff(t, 2), -m*g)\n",
                "eom_free_fall"
            ]
        },
        {
            "cell_type": "code",
            "execution_count": 7,
            "metadata": {},
            "outputs": [
                {
                    "data": {
                        "text/latex": [
                            "$\\displaystyle x{\\left(t \\right)} = C_{1} + C_{2} t - \\frac{g t^{2}}{2}$"
                        ],
                        "text/plain": [
                            "                      2\n",
                            "                   g⋅t \n",
                            "x(t) = C₁ + C₂⋅t - ────\n",
                            "                    2  "
                        ]
                    },
                    "execution_count": 7,
                    "metadata": {},
                    "output_type": "execute_result"
                }
            ],
            "source": [
                "gen_sol_2 = dsolve(eom_free_fall, x(t))\n",
                "gen_sol_2"
            ]
        },
        {
            "cell_type": "code",
            "execution_count": 8,
            "metadata": {},
            "outputs": [
                {
                    "data": {
                        "text/latex": [
                            "$\\displaystyle \\frac{d}{d t} x{\\left(t \\right)} = C_{2} - g t$"
                        ],
                        "text/plain": [
                            "d                  \n",
                            "──(x(t)) = C₂ - g⋅t\n",
                            "dt                 "
                        ]
                    },
                    "execution_count": 8,
                    "metadata": {},
                    "output_type": "execute_result"
                }
            ],
            "source": [
                "diff_gen_sol_2 = Eq(gen_sol_2.lhs.diff(t), gen_sol_2.rhs.diff(t))\n",
                "diff_gen_sol_2"
            ]
        },
        {
            "cell_type": "code",
            "execution_count": 9,
            "metadata": {},
            "outputs": [
                {
                    "data": {
                        "text/latex": [
                            "$\\displaystyle \\left[ \\left( C_{1}, \\  h\\right), \\  \\left( C_{2}, \\  0\\right)\\right]$"
                        ],
                        "text/plain": [
                            "[(C₁, h), (C₂, 0)]"
                        ]
                    },
                    "execution_count": 9,
                    "metadata": {},
                    "output_type": "execute_result"
                }
            ],
            "source": [
                "# 初期条件からC1 とC2 を求める\n",
                "from sympy import linsolve\n",
                "C2, h = symbols('C2 h')\n",
                "\n",
                "# 連立方程式を解く\n",
                "C_2 = linsolve([gen_sol_2, diff_gen_sol_2], (C1, C2))\n",
                "# 連立方程式の解に初期条件を代入\n",
                "C_2 = C_2.subs([(x(t).diff(t), 0), (t, 0), (x(0), h)])\n",
                "C_2 = [(C1, C_2.args[0][0]), (C2, C_2.args[0][1])]\n",
                "C_2"
            ]
        },
        {
            "cell_type": "code",
            "execution_count": 10,
            "metadata": {},
            "outputs": [
                {
                    "data": {
                        "text/latex": [
                            "$\\displaystyle x{\\left(t \\right)} = - \\frac{g t^{2}}{2} + h$"
                        ],
                        "text/plain": [
                            "            2    \n",
                            "         g⋅t     \n",
                            "x(t) = - ──── + h\n",
                            "          2      "
                        ]
                    },
                    "execution_count": 10,
                    "metadata": {},
                    "output_type": "execute_result"
                }
            ],
            "source": [
                "par_sol_2 = gen_sol_2.subs(C_2)\n",
                "par_sol_2"
            ]
        },
        {
            "cell_type": "code",
            "execution_count": 11,
            "metadata": {},
            "outputs": [
                {
                    "data": {
                        "text/latex": [
                            "$\\displaystyle x{\\left(t \\right)} = - \\frac{g t^{2}}{2} + h$"
                        ],
                        "text/plain": [
                            "            2    \n",
                            "         g⋅t     \n",
                            "x(t) = - ──── + h\n",
                            "          2      "
                        ]
                    },
                    "execution_count": 11,
                    "metadata": {},
                    "output_type": "execute_result"
                }
            ],
            "source": [
                "# ics に辞書型で初期条件を与える\n",
                "dsolve(eom_free_fall, x(t),\n",
                "        ics={x(0):h, x(t).diff(t).subs(t, 0): 0})"
            ]
        },
        {
            "cell_type": "code",
            "execution_count": 12,
            "metadata": {},
            "outputs": [
                {
                    "data": {
                        "image/png": "[encoded data removed]",
                        "text/plain": [
                            "<Figure size 432x288 with 1 Axes>"
                        ]
                    },
                    "metadata": {
                        "needs_background": "light"
                    },
                    "output_type": "display_data"
                },
                {
                    "data": {
                        "text/plain": [
                            "<sympy.plotting.plot.Plot at 0x1ac9f907ee0>"
                        ]
                    },
                    "execution_count": 12,
                    "metadata": {},
                    "output_type": "execute_result"
                }
            ],
            "source": [
                "# プロットの作成\n",
                "const_free_fall = [(g, 9.8), (h, 1000)]\n",
                "plot(par_sol_2.rhs.subs(const_free_fall), (t, 0, 20))"
            ]
        },
        {
            "cell_type": "markdown",
            "metadata": {},
            "source": [
                "### 自由落下（空気抵抗あり）"
            ]
        },
        {
            "cell_type": "code",
            "execution_count": 13,
            "metadata": {},
            "outputs": [
                {
                    "data": {
                        "text/latex": [
                            "$\\displaystyle m \\frac{d^{2}}{d t^{2}} x{\\left(t \\right)} = - D \\frac{d}{d t} x{\\left(t \\right)} - g m$"
                        ],
                        "text/plain": [
                            "    2                           \n",
                            "   d              d             \n",
                            "m⋅───(x(t)) = - D⋅──(x(t)) - g⋅m\n",
                            "    2             dt            \n",
                            "  dt                            "
                        ]
                    },
                    "execution_count": 13,
                    "metadata": {},
                    "output_type": "execute_result"
                }
            ],
            "source": [
                "D = symbols('D', real=True, positive=True)\n",
                "\n",
                "# 運動方程式を入力\n",
                "eom_free_fall_w_res = Eq(m*x(t).diff(t, 2), -m*g - D*x(t).diff(t))\n",
                "eom_free_fall_w_res"
            ]
        },
        {
            "cell_type": "code",
            "execution_count": 14,
            "metadata": {},
            "outputs": [
                {
                    "data": {
                        "text/latex": [
                            "$\\displaystyle x{\\left(t \\right)} = C_{1} + C_{2} e^{- \\frac{D t}{m}} - \\frac{g m t}{D}$"
                        ],
                        "text/plain": [
                            "                -D⋅t         \n",
                            "                ─────        \n",
                            "                  m     g⋅m⋅t\n",
                            "x(t) = C₁ + C₂⋅ℯ      - ─────\n",
                            "                          D  "
                        ]
                    },
                    "execution_count": 14,
                    "metadata": {},
                    "output_type": "execute_result"
                }
            ],
            "source": [
                "from sympy import simplify\n",
                "# 一般解の計算\n",
                "gen_sol_3 = dsolve(eom_free_fall_w_res, x(t))\n",
                "gen_sol_3"
            ]
        },
        {
            "cell_type": "code",
            "execution_count": 15,
            "metadata": {},
            "outputs": [
                {
                    "data": {
                        "text/latex": [
                            "$\\displaystyle x{\\left(t \\right)} = h - \\frac{g m t}{D} + \\frac{g m^{2}}{D^{2}} - \\frac{g m^{2} e^{- \\frac{D t}{m}}}{D^{2}}$"
                        ],
                        "text/plain": [
                            "                                -D⋅t \n",
                            "                                ─────\n",
                            "                      2      2    m  \n",
                            "           g⋅m⋅t   g⋅m    g⋅m ⋅ℯ     \n",
                            "x(t) = h - ───── + ──── - ───────────\n",
                            "             D       2          2    \n",
                            "                    D          D     "
                        ]
                    },
                    "execution_count": 15,
                    "metadata": {},
                    "output_type": "execute_result"
                }
            ],
            "source": [
                "from sympy import simplify\n",
                "# 特殊解の計算\n",
                "par_sol_3 = dsolve(eom_free_fall_w_res, x(t),\n",
                "                ics={x(0):h, x(t).diff(t).subs(t, 0):0})\n",
                "simplify(par_sol_3)"
            ]
        },
        {
            "cell_type": "code",
            "execution_count": 16,
            "metadata": {},
            "outputs": [
                {
                    "data": {
                        "text/latex": [
                            "$\\displaystyle - \\frac{g m}{D} + \\frac{g m e^{- \\frac{D t}{m}}}{D}$"
                        ],
                        "text/plain": [
                            "             -D⋅t \n",
                            "             ─────\n",
                            "               m  \n",
                            "  g⋅m   g⋅m⋅ℯ     \n",
                            "- ─── + ──────────\n",
                            "   D        D     "
                        ]
                    },
                    "execution_count": 16,
                    "metadata": {},
                    "output_type": "execute_result"
                }
            ],
            "source": [
                "# 右辺はrhs プロパティを使用する\n",
                "par_sol_3.rhs.diff(t)"
            ]
        },
        {
            "cell_type": "code",
            "execution_count": 17,
            "metadata": {},
            "outputs": [
                {
                    "data": {
                        "image/png": "[encoded data removed]",
                        "text/plain": [
                            "<Figure size 432x288 with 1 Axes>"
                        ]
                    },
                    "metadata": {
                        "needs_background": "light"
                    },
                    "output_type": "display_data"
                }
            ],
            "source": [
                "# 各定数\n",
                "const_free_fall_res = [(g, 9.8), (h, 1000), (D, 0.2), (m, 1)]\n",
                "\n",
                "# プロットの作成\n",
                "p = plot(par_sol_3.rhs.subs(const_free_fall_res),\n",
                "        par_sol_2.rhs.subs(const_free_fall),\n",
                "        (t, 0, 20), show=False, legend=True)\n",
                "# 凡例の設定\n",
                "p[0].label = 'With air resistance' # 空気抵抗あり\n",
                "p[1].label = 'No air resistance' # 空気抵抗なし\n",
                "\n",
                "p[0].line_color = 'b'\n",
                "p[1].line_color = 'r'\n",
                "\n",
                "p.show()"
            ]
        },
        {
            "cell_type": "markdown",
            "metadata": {},
            "source": [
                "### バネによる振動"
            ]
        },
        {
            "cell_type": "code",
            "execution_count": 18,
            "metadata": {},
            "outputs": [
                {
                    "data": {
                        "text/latex": [
                            "$\\displaystyle m \\frac{d^{2}}{d t^{2}} x{\\left(t \\right)} = - k x{\\left(t \\right)}$"
                        ],
                        "text/plain": [
                            "    2                \n",
                            "   d                 \n",
                            "m⋅───(x(t)) = -k⋅x(t)\n",
                            "    2                \n",
                            "  dt                 "
                        ]
                    },
                    "execution_count": 18,
                    "metadata": {},
                    "output_type": "execute_result"
                }
            ],
            "source": [
                "# 正の実数である定数k の作成\n",
                "k = symbols('k', real=True, positive=True)\n",
                "# 初期条件の定数の作成\n",
                "v0, x0 = symbols('v0 x0', real=True)\n",
                "\n",
                "# 運動方程式を入力\n",
                "eom_simp_hosc = Eq(m*x(t).diff(t, 2), -k*x(t))\n",
                "eom_simp_hosc"
            ]
        },
        {
            "cell_type": "code",
            "execution_count": 19,
            "metadata": {},
            "outputs": [
                {
                    "data": {
                        "text/latex": [
                            "$\\displaystyle x{\\left(t \\right)} = C_{1} \\sin{\\left(\\frac{\\sqrt{k} t}{\\sqrt{m}} \\right)} + C_{2} \\cos{\\left(\\frac{\\sqrt{k} t}{\\sqrt{m}} \\right)}$"
                        ],
                        "text/plain": [
                            "             ⎛√k⋅t⎞         ⎛√k⋅t⎞\n",
                            "x(t) = C₁⋅sin⎜────⎟ + C₂⋅cos⎜────⎟\n",
                            "             ⎝ √m ⎠         ⎝ √m ⎠"
                        ]
                    },
                    "execution_count": 19,
                    "metadata": {},
                    "output_type": "execute_result"
                }
            ],
            "source": [
                "# 一般解の計算\n",
                "gen_sol_4 = dsolve(eom_simp_hosc, x(t))\n",
                "gen_sol_4"
            ]
        },
        {
            "cell_type": "code",
            "execution_count": 20,
            "metadata": {},
            "outputs": [
                {
                    "data": {
                        "text/latex": [
                            "$\\displaystyle x{\\left(t \\right)} = x_{0} \\cos{\\left(\\frac{\\sqrt{k} t}{\\sqrt{m}} \\right)} + \\frac{\\sqrt{m} v_{0} \\sin{\\left(\\frac{\\sqrt{k} t}{\\sqrt{m}} \\right)}}{\\sqrt{k}}$"
                        ],
                        "text/plain": [
                            "                               ⎛√k⋅t⎞\n",
                            "                      √m⋅v₀⋅sin⎜────⎟\n",
                            "             ⎛√k⋅t⎞            ⎝ √m ⎠\n",
                            "x(t) = x₀⋅cos⎜────⎟ + ───────────────\n",
                            "             ⎝ √m ⎠          √k      "
                        ]
                    },
                    "execution_count": 20,
                    "metadata": {},
                    "output_type": "execute_result"
                }
            ],
            "source": [
                "# 特殊解の計算\n",
                "par_sol_4 = dsolve(eom_simp_hosc, x(t),\n",
                "                ics={x(0):x0, x(t).diff(t).subs(t, 0):v0})\n",
                "par_sol_4"
            ]
        },
        {
            "cell_type": "code",
            "execution_count": 21,
            "metadata": {},
            "outputs": [
                {
                    "data": {
                        "text/latex": [
                            "$\\displaystyle x{\\left(t \\right)} = x_{0} \\cos{\\left(\\omega_{0} t \\right)} + \\frac{v_{0} \\sin{\\left(\\omega_{0} t \\right)}}{\\omega_{0}}$"
                        ],
                        "text/plain": [
                            "                           v₀⋅sin(\\omega₀⋅t)\n",
                            "x(t) = x₀⋅cos(\\omega₀⋅t) + ─────────────────\n",
                            "                                \\omega₀     "
                        ]
                    },
                    "execution_count": 21,
                    "metadata": {},
                    "output_type": "execute_result"
                }
            ],
            "source": [
                "w_0 = symbols('\\omega_0', real=True, positive=True)\n",
                "par_sol_4_omega = par_sol_4.subs(k, m*w_0**2)\n",
                "par_sol_4_omega"
            ]
        },
        {
            "cell_type": "code",
            "execution_count": 22,
            "metadata": {},
            "outputs": [
                {
                    "data": {
                        "image/png": "[encoded data removed]",
                        "text/plain": [
                            "<Figure size 432x288 with 1 Axes>"
                        ]
                    },
                    "metadata": {
                        "needs_background": "light"
                    },
                    "output_type": "display_data"
                }
            ],
            "source": [
                "# 定数の設定\n",
                "const_simp_hosc = [[(w_0, 1), (x0, 1), (v0, 0)],\n",
                "                [(w_0, 1), (x0, 0), (v0, 1)]]\n",
                "# プロットの作成\n",
                "p = plot(par_sol_4_omega.rhs.subs(const_simp_hosc[0]),\n",
                "            par_sol_4_omega.rhs.subs(const_simp_hosc[1]),\n",
                "            (t, 0, 10), legend=True, show=False)\n",
                "\n",
                "p[0].label = '$\\omega_0=1, x_0=1, v_0=0$'\n",
                "p[1].label = '$\\omega_0=1, x_0=0, v_0=1$'\n",
                "p[0].line_color = 'b'\n",
                "p[1].line_color = 'r'\n",
                "\n",
                "p.show()"
            ]
        },
        {
            "cell_type": "markdown",
            "metadata": {},
            "source": [
                "# 4 生物の増減を解く"
            ]
        },
        {
            "cell_type": "markdown",
            "metadata": {},
            "source": [
                "### ロジスティック方程式"
            ]
        },
        {
            "cell_type": "code",
            "execution_count": 23,
            "metadata": {},
            "outputs": [
                {
                    "data": {
                        "text/latex": [
                            "$\\displaystyle \\frac{d}{d t} p{\\left(t \\right)} = a \\left(1 - \\frac{p{\\left(t \\right)}}{K}\\right) p{\\left(t \\right)}$"
                        ],
                        "text/plain": [
                            "d            ⎛    p(t)⎞     \n",
                            "──(p(t)) = a⋅⎜1 - ────⎟⋅p(t)\n",
                            "dt           ⎝     K  ⎠     "
                        ]
                    },
                    "execution_count": 23,
                    "metadata": {},
                    "output_type": "execute_result"
                }
            ],
            "source": [
                "# 定数の作成\n",
                "a, K = symbols('a K', real=True)\n",
                "# 人口p(t)\n",
                "p = symbols('p', cls=Function, real=True)\n",
                "# ロジスティック方程式の入力\n",
                "logistic_eq = Eq(p(t).diff(t), a*p(t)*(1-p(t)/K))\n",
                "logistic_eq"
            ]
        },
        {
            "cell_type": "code",
            "execution_count": 24,
            "metadata": {},
            "outputs": [
                {
                    "data": {
                        "text/latex": [
                            "$\\displaystyle \\left\\{0, K\\right\\}$"
                        ],
                        "text/plain": [
                            "{0, K}"
                        ]
                    },
                    "execution_count": 24,
                    "metadata": {},
                    "output_type": "execute_result"
                }
            ],
            "source": [
                "solveset(logistic_eq.rhs, p(t))"
            ]
        },
        {
            "cell_type": "code",
            "execution_count": 25,
            "metadata": {},
            "outputs": [
                {
                    "data": {
                        "text/latex": [
                            "$\\displaystyle p{\\left(t \\right)} = \\frac{K e^{C_{1} K + a t}}{e^{C_{1} K + a t} - 1}$"
                        ],
                        "text/plain": [
                            "           C₁⋅K + a⋅t \n",
                            "        K⋅ℯ           \n",
                            "p(t) = ───────────────\n",
                            "        C₁⋅K + a⋅t    \n",
                            "       ℯ           - 1"
                        ]
                    },
                    "execution_count": 25,
                    "metadata": {},
                    "output_type": "execute_result"
                }
            ],
            "source": [
                "gen_sol_logistic = dsolve(logistic_eq, p(t))\n",
                "gen_sol_logistic"
            ]
        },
        {
            "cell_type": "code",
            "execution_count": 26,
            "metadata": {},
            "outputs": [
                {
                    "data": {
                        "text/latex": [
                            "$\\displaystyle p{\\left(t \\right)} = \\frac{K e^{C_{1} K + a t}}{e^{C_{1} K + a t} - 1}$"
                        ],
                        "text/plain": [
                            "           C₁⋅K + a⋅t \n",
                            "        K⋅ℯ           \n",
                            "p(t) = ───────────────\n",
                            "        C₁⋅K + a⋅t    \n",
                            "       ℯ           - 1"
                        ]
                    },
                    "execution_count": 26,
                    "metadata": {},
                    "output_type": "execute_result"
                }
            ],
            "source": [
                "# 一般解の計算\n",
                "gen_sol_logistic = dsolve(logistic_eq, p(t))\n",
                "gen_sol_logistic"
            ]
        },
        {
            "cell_type": "code",
            "execution_count": 27,
            "metadata": {},
            "outputs": [
                {
                    "data": {
                        "text/latex": [
                            "$\\displaystyle p{\\left(t \\right)} = \\frac{K p_{0} e^{a t} e^{- a t_{0}}}{\\left(- K + p_{0}\\right) \\left(\\frac{p_{0} e^{a t} e^{- a t_{0}}}{- K + p_{0}} - 1\\right)}$"
                        ],
                        "text/plain": [
                            "                    a⋅t  -a⋅t₀       \n",
                            "              K⋅p₀⋅ℯ   ⋅ℯ            \n",
                            "p(t) = ──────────────────────────────\n",
                            "                 ⎛    a⋅t  -a⋅t₀    ⎞\n",
                            "                 ⎜p₀⋅ℯ   ⋅ℯ         ⎟\n",
                            "       (-K + p₀)⋅⎜────────────── - 1⎟\n",
                            "                 ⎝   -K + p₀        ⎠"
                        ]
                    },
                    "execution_count": 27,
                    "metadata": {},
                    "output_type": "execute_result"
                }
            ],
            "source": [
                "# 人口初期値p0\n",
                "p0 = symbols('p0', positive=True)\n",
                "# 特殊解の計算\n",
                "par_sol_logistic = dsolve(logistic_eq, p(t),\n",
                "                            ics={p(t0):p0})\n",
                "par_sol_logistic"
            ]
        },
        {
            "cell_type": "code",
            "execution_count": 28,
            "metadata": {},
            "outputs": [
                {
                    "data": {
                        "text/latex": [
                            "$\\displaystyle K$"
                        ],
                        "text/plain": [
                            "K"
                        ]
                    },
                    "execution_count": 28,
                    "metadata": {},
                    "output_type": "execute_result"
                }
            ],
            "source": [
                "from sympy import limit, oo\n",
                "# a には正の値を代入して極限値を計算\n",
                "limit(par_sol_logistic.rhs.subs(a, 0.1), t, oo)"
            ]
        },
        {
            "cell_type": "code",
            "execution_count": 29,
            "metadata": {},
            "outputs": [
                {
                    "data": {
                        "image/png": "[encoded data removed]",
                        "text/plain": [
                            "<Figure size 432x288 with 1 Axes>"
                        ]
                    },
                    "metadata": {
                        "needs_background": "light"
                    },
                    "output_type": "display_data"
                }
            ],
            "source": [
                "# 定数の設定\n",
                "const_logistic = [{t0:0, p0:2, a:0.1, K:1000},\n",
                "                {t0:0, p0:2, a:0.2, K:1000}]\n",
                "# プロットの作成\n",
                "p = plot(par_sol_logistic.rhs.subs(const_logistic[0]),\n",
                "         par_sol_logistic.rhs.subs(const_logistic[1]),\n",
                "(t, 0, 200), legend=True, show=False)\n",
                "# 凡例の設定\n",
                "p[0].label = 'a=0.1'\n",
                "p[1].label = 'a=0.2'\n",
                "\n",
                "p[0].line_color = 'b'\n",
                "p[1].line_color = 'r'\n",
                "\n",
                "p.show()"
            ]
        },
        {
            "cell_type": "code",
            "execution_count": 30,
            "metadata": {},
            "outputs": [
                {
                    "data": {
                        "image/png": "[encoded data removed]",
                        "text/plain": [
                            "<Figure size 576x576 with 1 Axes>"
                        ]
                    },
                    "metadata": {
                        "needs_background": "light"
                    },
                    "output_type": "display_data"
                }
            ],
            "source": [
                "import numpy as np\n",
                "import matplotlib.pyplot as plt\n",
                "%matplotlib inline\n",
                "# アメリカの人口データの読み込み\n",
                "data_us_population = np.loadtxt('../data/us_population.csv',\n",
                "                                delimiter=',')\n",
                "\n",
                "year = data_us_population[:,0]\n",
                "us_pop = data_us_population[:,1] / 1000 # 百万人単位に変換\n",
                "\n",
                "# プロットエリアの作成\n",
                "fig = plt.figure(figsize=(8, 8))\n",
                "ax = fig.add_subplot(111)\n",
                "\n",
                "# プロットの作成\n",
                "ax.plot(year, us_pop, marker='o', linestyle='None')\n",
                "ax.set_title('Population in U.S.')\n",
                "ax.set_xlabel('Year')\n",
                "ax.set_ylabel('Population in million')\n",
                "ax.grid()\n",
                "\n",
                "plt.show()"
            ]
        },
        {
            "cell_type": "code",
            "execution_count": 31,
            "metadata": {},
            "outputs": [],
            "source": [
                "from scipy.optimize import curve_fit\n",
                "from sympy import lambdify\n",
                "# 初期条件\n",
                "initial_val_logistc = {t0:year[0], p0:us_pop[0]}\n",
                "\n",
                "# フィッティング用の関数f の作成\n",
                "f = lambdify((t,a,K),\n",
                "            par_sol_logistic.rhs.subs(initial_val_logistc))"
            ]
        },
        {
            "cell_type": "code",
            "execution_count": 32,
            "metadata": {},
            "outputs": [],
            "source": [
                "# curve_fit を使用してフィッティングを実施\n",
                "param, cov = curve_fit(f, year, us_pop, p0=[0.05, 400])"
            ]
        },
        {
            "cell_type": "code",
            "execution_count": 33,
            "metadata": {},
            "outputs": [
                {
                    "data": {
                        "text/latex": [
                            "$\\displaystyle \\left\\{ K : 369.552888618819, \\  a : 0.0267889064180667\\right\\}$"
                        ],
                        "text/plain": [
                            "{K: 369.55288861881866, a: 0.02678890641806669}"
                        ]
                    },
                    "execution_count": 33,
                    "metadata": {},
                    "output_type": "execute_result"
                }
            ],
            "source": [
                "{a: param[0], K: param[1]}"
            ]
        },
        {
            "cell_type": "code",
            "execution_count": 34,
            "metadata": {},
            "outputs": [
                {
                    "data": {
                        "image/png": "[encoded data removed]",
                        "text/plain": [
                            "<Figure size 576x576 with 1 Axes>"
                        ]
                    },
                    "metadata": {
                        "needs_background": "light"
                    },
                    "output_type": "display_data"
                }
            ],
            "source": [
                "# フィッティング結果の確認\n",
                "fig = plt.figure(figsize=(8, 8))\n",
                "ax = fig.add_subplot(111)\n",
                "\n",
                "ax.plot(year, us_pop, marker='o', linestyle='None')\n",
                "ax.plot(year, f(year, param[0], param[1]))\n",
                "ax.set_title('Population in U.S.')\n",
                "ax.set_xlabel('Year')\n",
                "ax.set_ylabel('Population in million')\n",
                "ax.grid()\n",
                "\n",
                "plt.show()"
            ]
        },
        {
            "cell_type": "code",
            "execution_count": null,
            "metadata": {},
            "outputs": [],
            "source": []
        }
    ],
    "metadata": {
        "interpreter": {
            "hash": "b3ba2566441a7c06988d0923437866b63cedc61552a5af99d1f4fb67d367b25f"
        },
        "kernelspec": {
            "display_name": "Python 3.7.4 64-bit ('base': conda)",
            "name": "python3"
        },
        "language_info": {
            "codemirror_mode": {
                "name": "ipython",
                "version": 3
            },
            "file_extension": ".py",
            "mimetype": "text/x-python",
            "name": "python",
            "nbconvert_exporter": "python",
            "pygments_lexer": "ipython3",
            "version": "3.9.7"
        },
        "orig_nbformat": 4
    },
    "nbformat": 4,
    "nbformat_minor": 2
}
