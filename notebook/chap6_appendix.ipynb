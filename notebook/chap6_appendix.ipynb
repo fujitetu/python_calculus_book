{
 "cells": [
  {
   "cell_type": "code",
   "execution_count": 1,
   "metadata": {},
   "outputs": [],
   "source": [
    "import numpy as np\n",
    "from numpy.random import Generator, MT19937, PCG64\n",
    "# PCG64 疑似乱数生成器. NumPy のデフォルト\n",
    "rng_pcg = Generator(PCG64(2))\n",
    "val_pcg = rng_pcg.random(1000000)\n",
    "# メルセンヌ・ツイスタ疑似乱数生成器\n",
    "rng_mt = Generator(MT19937(2))\n",
    "val_mt = rng_mt.random(1000000)"
   ]
  },
  {
   "cell_type": "code",
   "execution_count": 2,
   "metadata": {},
   "outputs": [
    {
     "data": {
      "image/png": "[encoded data removed]",
      "text/plain": [
       "<Figure size 576x288 with 1 Axes>"
      ]
     },
     "metadata": {
      "needs_background": "light"
     },
     "output_type": "display_data"
    }
   ],
   "source": [
    "import matplotlib.pyplot as plt\n",
    "%matplotlib inline\n",
    "# プロットエリアの作成\n",
    "fig = plt.figure(figsize=(8, 4))\n",
    "ax = fig.add_subplot(111)\n",
    "# ヒストグラムの作成\n",
    "count, bins, ignored = ax.hist([val_pcg, val_mt],\n",
    "density=True, label=['PCG64', 'MT'])\n",
    "# y = 1 のラインを描画\n",
    "plt.plot(bins, np.ones_like(bins), linewidth=2, color='r')\n",
    "# プロットの範囲の設定\n",
    "ax.set_ylim(0.98, 1.02)\n",
    "# 凡例の表示\n",
    "ax.legend()\n",
    "# プロットの表示\n",
    "plt.show()"
   ]
  },
  {
   "cell_type": "code",
   "execution_count": 3,
   "metadata": {},
   "outputs": [
    {
     "data": {
      "text/plain": [
       "(3.1416, 0.00023384349967514595)"
      ]
     },
     "execution_count": 3,
     "metadata": {},
     "output_type": "execute_result"
    }
   ],
   "source": [
    "# PCG64 を使用\n",
    "rng_pcg = Generator(PCG64(2))\n",
    "# 乱数の生成\n",
    "n_pcg = 1000000\n",
    "x_pcg = rng_pcg.uniform(-1, 1, n_pcg)\n",
    "y_pcg = rng_pcg.uniform(-1, 1, n_pcg)\n",
    "# 円の内側の点数のカウントして、円の面積を計算\n",
    "r_pcg = np.sqrt(x_pcg**2 + y_pcg**2)\n",
    "s_pcg = np.sum(r_pcg<=1) / n_pcg * 4\n",
    "# 円の面積からの誤差を%単位で計算\n",
    "error_pcg = (s_pcg / np.pi - 1) * 100\n",
    "s_pcg, error_pcg"
   ]
  },
  {
   "cell_type": "code",
   "execution_count": 4,
   "metadata": {},
   "outputs": [
    {
     "data": {
      "text/plain": [
       "(3.14326, 0.053073284606197646)"
      ]
     },
     "execution_count": 4,
     "metadata": {},
     "output_type": "execute_result"
    }
   ],
   "source": [
    "# メルセンヌ・ツイスタを使用\n",
    "rng_mt = Generator(MT19937(2))\n",
    "# 乱数の生成\n",
    "n_mt = 1000000\n",
    "x_mt = rng_mt.uniform(-1, 1, n_mt)\n",
    "y_mt = rng_mt.uniform(-1, 1, n_mt)\n",
    "# 円の内側の点数のカウントして、円の面積を計算\n",
    "r_mt = np.sqrt(x_mt**2 + y_mt**2)\n",
    "s_mt = np.sum(r_mt<=1) / n_mt * 4\n",
    "# 円の面積からの誤差を%単位で計算\n",
    "error_mt = (s_mt / np.pi - 1) * 100\n",
    "s_mt, error_mt"
   ]
  }
 ],
 "metadata": {
  "interpreter": {
   "hash": "1ffc948ab769cfa4cc4757e26199a35fdd6ab5f8b5665b37d3c13b7918f14453"
  },
  "kernelspec": {
   "display_name": "Python 3.9.7 ('base')",
   "language": "python",
   "name": "python3"
  },
  "language_info": {
   "codemirror_mode": {
    "name": "ipython",
    "version": 3
   },
   "file_extension": ".py",
   "mimetype": "text/x-python",
   "name": "python",
   "nbconvert_exporter": "python",
   "pygments_lexer": "ipython3",
   "version": "3.9.7"
  },
  "orig_nbformat": 4
 },
 "nbformat": 4,
 "nbformat_minor": 2
}
